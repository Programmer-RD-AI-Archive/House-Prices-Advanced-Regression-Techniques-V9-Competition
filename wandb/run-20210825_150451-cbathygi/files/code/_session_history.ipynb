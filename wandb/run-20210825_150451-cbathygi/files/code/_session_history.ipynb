{
 "cells": [
  {
   "cell_type": "code",
   "execution_count": 1,
   "id": "4792a561",
   "metadata": {},
   "outputs": [
    {
     "name": "stdout",
     "output_type": "stream",
     "text": [
      "<torch._C.Generator at 0x7f9dadda6890>"
     ]
    }
   ],
   "source": [
    "import random\n",
    "import seaborn as sns\n",
    "import pandas as pd\n",
    "import numpy as np\n",
    "import matplotlib.pyplot as plt\n",
    "import sklearn\n",
    "import torch,torchvision\n",
    "from torch.nn import *\n",
    "from torch.optim import *\n",
    "# Preproccessing\n",
    "from sklearn.preprocessing import (\n",
    "    StandardScaler,\n",
    "    RobustScaler,\n",
    "    MinMaxScaler,\n",
    "    MaxAbsScaler,\n",
    "    OneHotEncoder,\n",
    "    Normalizer,\n",
    "    Binarizer\n",
    ")\n",
    "# Decomposition\n",
    "from sklearn.decomposition import PCA\n",
    "from sklearn.decomposition import KernelPCA\n",
    "# Feature Selection\n",
    "from sklearn.feature_selection import VarianceThreshold\n",
    "from sklearn.feature_selection import SelectKBest\n",
    "from sklearn.feature_selection import RFECV\n",
    "from sklearn.feature_selection import SelectFromModel\n",
    "# Model Eval\n",
    "from sklearn.compose import make_column_transformer\n",
    "from sklearn.model_selection import GridSearchCV\n",
    "from sklearn.model_selection import cross_val_score,train_test_split\n",
    "from sklearn.metrics import mean_absolute_error,mean_squared_error,accuracy_score,precision_score,f1_score,recall_score\n",
    "# Models\n",
    "from sklearn.neighbors import KNeighborsRegressor\n",
    "from sklearn.linear_model import LogisticRegression,LogisticRegressionCV\n",
    "from sklearn.naive_bayes import GaussianNB\n",
    "from sklearn.tree import DecisionTreeRegressor\n",
    "from sklearn.ensemble import GradientBoostingRegressor,AdaBoostRegressor,VotingRegressor,BaggingRegressor,RandomForestRegressor\n",
    "from sklearn.svm import SVR\n",
    "from sklearn.ensemble import BaggingRegressor\n",
    "from sklearn.ensemble import ExtraTreesRegressor\n",
    "from catboost import CatBoost,CatBoostRegressor\n",
    "from xgboost import XGBRegressor,XGBRFRegressor\n",
    "from flaml import AutoML\n",
    "# Other\n",
    "import pickle\n",
    "import wandb\n",
    "\n",
    "PROJECT_NAME = 'House-Prices-Advanced-Regression-Techniques-V9'\n",
    "device = 'cuda'\n",
    "np.random.seed(21)\n",
    "random.seed(21)\n",
    "torch.manual_seed(21)"
   ]
  },
  {
   "cell_type": "code",
   "execution_count": 2,
   "id": "b280f935",
   "metadata": {},
   "outputs": [],
   "source": [
    "def make_submission(model,name):\n",
    "    data = pd.read_csv('./data/test.csv')\n",
    "    ids = data['Id']\n",
    "    str_cols = []\n",
    "    int_cols = []\n",
    "    for col_name,num_of_missing_rows,dtype in zip(list(data.columns),data.isna().sum(),data.dtypes):\n",
    "        if dtype == object:\n",
    "            str_cols.append(col_name)\n",
    "        else:\n",
    "            int_cols.append(col_name)\n",
    "    for str_col in str_cols:\n",
    "        data,idx,labels_and_int_index,new_data = object_to_int(data,str_col)\n",
    "    nan_cols = []\n",
    "    for col_name,num_of_missing_rows,dtype in zip(list(data.columns),data.isna().sum(),data.dtypes):\n",
    "        if num_of_missing_rows > 0:\n",
    "            nan_cols.append(col_name)\n",
    "    for nan_col in nan_cols:\n",
    "        data[nan_col].fillna(data[nan_col].median(),inplace=True)\n",
    "    preds = model.predict(data)\n",
    "    df = pd.DataFrame({'Id':ids,'SalePrice':preds})\n",
    "    df.to_csv(f'./submission/{name}.csv',index=False)"
   ]
  },
  {
   "cell_type": "code",
   "execution_count": 3,
   "id": "169c7b8c",
   "metadata": {},
   "outputs": [],
   "source": [
    "def valid(model,X,y,valid=False):\n",
    "    preds = model.predict(X)\n",
    "    if valid:\n",
    "        results = {\n",
    "            'val mean_absolute_error':mean_absolute_error(y_true=y,y_pred=preds),\n",
    "            'val mean_squared_error':mean_squared_error(y_true=y,y_pred=preds),\n",
    "        }\n",
    "    else:\n",
    "        results = {\n",
    "            'mean_absolute_error':mean_absolute_error(y_true=y,y_pred=preds),\n",
    "            'mean_squared_error':mean_squared_error(y_true=y,y_pred=preds),\n",
    "        }\n",
    "    return results"
   ]
  },
  {
   "cell_type": "code",
   "execution_count": 4,
   "id": "d5bef3d8",
   "metadata": {},
   "outputs": [],
   "source": [
    "def train(model,X_train,X_test,y_train,y_test,name):\n",
    "    wandb.init(project=PROJECT_NAME,name=name)\n",
    "    model.fit(X_train,y_train)\n",
    "    wandb.log(valid(model,X_train,y_train))\n",
    "    wandb.log(valid(model,X_test,y_test,True))\n",
    "    make_submission(model,name)\n",
    "    return model"
   ]
  },
  {
   "cell_type": "code",
   "execution_count": 5,
   "id": "ce63309e",
   "metadata": {},
   "outputs": [],
   "source": [
    "def object_to_int(data,col):\n",
    "    data_col = data[col].to_dict()\n",
    "    idx = -1\n",
    "    labels_and_int_index = {}\n",
    "    for data_col_vals in data_col.values():\n",
    "        if data_col_vals not in labels_and_int_index.keys():\n",
    "            idx += 1\n",
    "            labels_and_int_index[data_col_vals] = idx\n",
    "    new_data = []\n",
    "    for data_col_vals in data_col.values():\n",
    "        new_data.append(labels_and_int_index[data_col_vals])\n",
    "    data[col] = new_data\n",
    "    return data,idx,labels_and_int_index,new_data"
   ]
  },
  {
   "cell_type": "code",
   "execution_count": 6,
   "id": "77d6e1f9",
   "metadata": {},
   "outputs": [],
   "source": [
    "def fe(data,col,quantile_max_num=0.99,quantile_min_num=0.05):\n",
    "    max_num = data[col].quantile(quantile_max_num)\n",
    "    min_num = data[col].quantile(quantile_min_num)\n",
    "    print(max_num)\n",
    "    print(min_num)\n",
    "    data = data[data[col] < max_num]\n",
    "    data = data[data[col] > min_num]\n",
    "    return data"
   ]
  },
  {
   "cell_type": "code",
   "execution_count": 7,
   "id": "80ae7524",
   "metadata": {},
   "outputs": [],
   "source": [
    "def decomposition(X,pca=False,kernal_pca=False):\n",
    "    if pca:\n",
    "        pca = PCA()\n",
    "        X = pca.fit_transform(X)\n",
    "    if kernal_pca:\n",
    "        kernal_pca = KernelPCA()\n",
    "        X = kernal_pca.fit_transform(X)\n",
    "    return X"
   ]
  },
  {
   "cell_type": "code",
   "execution_count": 8,
   "id": "b4326392",
   "metadata": {},
   "outputs": [],
   "source": [
    "def feature_selection_prep_data(model,X,y,select_from_model=False,variance_threshold=False,select_k_best=False,rfecv=False):\n",
    "    if select_from_model:\n",
    "        transform = SelectFromModel(estimator=model.fit(X, y))\n",
    "        X = transform.transform(X)\n",
    "    if variance_threshold:\n",
    "        transform = VarianceThreshold()\n",
    "        X = transform.fit_transform(X)\n",
    "    if select_k_best:\n",
    "        X = SelectKBest(chi2, k='all').fit_transform(X, y)\n",
    "    if rfecv:\n",
    "        X = RFECV(model, step=1, cv=5).fit(X, y)\n",
    "        X = X.transform(X)\n",
    "    return X"
   ]
  },
  {
   "cell_type": "code",
   "execution_count": 9,
   "id": "56c0f53d",
   "metadata": {},
   "outputs": [],
   "source": [
    "def prep_data(X,transformer):\n",
    "    mct = make_column_transformer(\n",
    "        (transformer,list(X.columns)),\n",
    "        remainder='passthrough'\n",
    "    )\n",
    "    X = mct.fit_transform(X)\n",
    "    return X"
   ]
  },
  {
   "cell_type": "code",
   "execution_count": 10,
   "id": "b11ba965",
   "metadata": {},
   "outputs": [],
   "source": [
    "data = pd.read_csv('./data/train.csv')"
   ]
  },
  {
   "cell_type": "code",
   "execution_count": 11,
   "id": "b5766fd5",
   "metadata": {},
   "outputs": [],
   "source": [
    "preproccessings = [StandardScaler,RobustScaler,MinMaxScaler,MaxAbsScaler,OneHotEncoder,Normalizer,Binarizer]"
   ]
  },
  {
   "cell_type": "code",
   "execution_count": 12,
   "id": "72c667b2",
   "metadata": {},
   "outputs": [],
   "source": [
    "models = [\n",
    "    ['KNeighborsRegressor',KNeighborsRegressor],\n",
    "    ['LogisticRegression',LogisticRegression],\n",
    "    ['LogisticRegressionCV',LogisticRegressionCV],\n",
    "    ['DecisionTreeRegressor',DecisionTreeRegressor],\n",
    "    ['GradientBoostingRegressor',GradientBoostingRegressor],\n",
    "    ['AdaBoostRegressor',AdaBoostRegressor],\n",
    "    ['RandomForestRegressor',RandomForestRegressor],\n",
    "    ['BaggingRegressor',BaggingRegressor],\n",
    "    ['GaussianNB',GaussianNB],\n",
    "    ['ExtraTreesRegressor',ExtraTreesRegressor],\n",
    "    ['CatBoost',CatBoost],\n",
    "    ['CatBoostRegressor',CatBoostRegressor],\n",
    "    ['XGBRegressor',XGBRegressor],\n",
    "    ['XGBRFRegressor',XGBRFRegressor],\n",
    "    ['ExtraTreesRegressor',ExtraTreesRegressor],\n",
    "]"
   ]
  },
  {
   "cell_type": "code",
   "execution_count": 13,
   "id": "f91113f6",
   "metadata": {},
   "outputs": [],
   "source": [
    "X = data.drop('SalePrice',axis=1)\n",
    "y = data['SalePrice']"
   ]
  },
  {
   "cell_type": "code",
   "execution_count": 14,
   "id": "d90ef659",
   "metadata": {},
   "outputs": [],
   "source": [
    "str_cols = []\n",
    "int_cols = []"
   ]
  },
  {
   "cell_type": "code",
   "execution_count": 15,
   "id": "f3722c25",
   "metadata": {},
   "outputs": [],
   "source": [
    "for col_name,num_of_missing_rows,dtype in zip(list(X.columns),X.isna().sum(),X.dtypes):\n",
    "    if dtype == object:\n",
    "        str_cols.append(col_name)\n",
    "    else:\n",
    "        int_cols.append(col_name)"
   ]
  },
  {
   "cell_type": "code",
   "execution_count": 16,
   "id": "7df8d765",
   "metadata": {},
   "outputs": [],
   "source": [
    "for str_col in str_cols:\n",
    "    X,idx,labels_and_int_index,new_data = object_to_int(X,str_col)"
   ]
  },
  {
   "cell_type": "code",
   "execution_count": 17,
   "id": "80a19611",
   "metadata": {},
   "outputs": [
    {
     "name": "stdout",
     "output_type": "stream",
     "text": [
      "   Id  MSSubClass  MSZoning  LotFrontage  LotArea  Street  Alley  LotShape  \\\n",
      "0   1          60         0         65.0     8450       0      0         0   \n",
      "1   2          20         0         80.0     9600       0      0         0   \n",
      "2   3          60         0         68.0    11250       0      0         1   \n",
      "3   4          70         0         60.0     9550       0      0         1   \n",
      "4   5          60         0         84.0    14260       0      0         1   \n",
      "\n",
      "   LandContour  Utilities  ...  ScreenPorch  PoolArea  PoolQC  Fence  \\\n",
      "0            0          0  ...            0         0       0      0   \n",
      "1            0          0  ...            0         0       0      0   \n",
      "2            0          0  ...            0         0       0      0   \n",
      "3            0          0  ...            0         0       0      0   \n",
      "4            0          0  ...            0         0       0      0   \n",
      "\n",
      "   MiscFeature  MiscVal  MoSold  YrSold  SaleType  SaleCondition  \n",
      "0            0        0       2    2008         0              0  \n",
      "1            0        0       5    2007         0              0  \n",
      "2            0        0       9    2008         0              0  \n",
      "3            0        0       2    2006         0              1  \n",
      "4            0        0      12    2008         0              0  \n",
      "\n",
      "[5 rows x 80 columns]"
     ]
    }
   ],
   "source": [
    "X.head()"
   ]
  },
  {
   "cell_type": "code",
   "execution_count": 18,
   "id": "f365a9d1",
   "metadata": {},
   "outputs": [],
   "source": [
    "nan_cols = []\n",
    "for col_name,num_of_missing_rows,dtype in zip(list(X.columns),X.isna().sum(),X.dtypes):\n",
    "    if num_of_missing_rows > 0:\n",
    "        nan_cols.append(col_name)"
   ]
  },
  {
   "cell_type": "code",
   "execution_count": 19,
   "id": "de0dd54a",
   "metadata": {},
   "outputs": [],
   "source": [
    "for nan_col in nan_cols:\n",
    "    X[nan_col].fillna(X[nan_col].median(),inplace=True)"
   ]
  },
  {
   "cell_type": "code",
   "execution_count": 20,
   "id": "3414558d",
   "metadata": {},
   "outputs": [],
   "source": [
    "nan_cols = []\n",
    "for col_name,num_of_missing_rows,dtype in zip(list(X.columns),X.isna().sum(),X.dtypes):\n",
    "    if num_of_missing_rows > 0:\n",
    "        nan_cols.append(col_name)"
   ]
  },
  {
   "cell_type": "code",
   "execution_count": 21,
   "id": "8daad2e2",
   "metadata": {},
   "outputs": [],
   "source": [
    "# train(GradientBoostingRegressor(),X,X,y,y,name='baseline-without-fe')"
   ]
  },
  {
   "cell_type": "code",
   "execution_count": 22,
   "id": "6e095f5b",
   "metadata": {},
   "outputs": [],
   "source": [
    "X_old = X.copy()"
   ]
  },
  {
   "cell_type": "code",
   "execution_count": 23,
   "id": "e165a4d7",
   "metadata": {},
   "outputs": [],
   "source": [
    "# for col_name in list(X.columns):\n",
    "#     try:\n",
    "#         X = X_old.copy()\n",
    "#         X = fe(X,col_name)\n",
    "#         train(GradientBoostingRegressor(),X,X,y,y,name=f'baseline-with-fe-{col_name}')\n",
    "#     except:\n",
    "#         print('*'*50)\n",
    "#         print('*'*50)"
   ]
  },
  {
   "cell_type": "code",
   "execution_count": 24,
   "id": "61e424a9",
   "metadata": {},
   "outputs": [],
   "source": [
    "# X = X_old.copy()"
   ]
  },
  {
   "cell_type": "code",
   "execution_count": 25,
   "id": "e6299403",
   "metadata": {},
   "outputs": [],
   "source": [
    "X_corr = X_old.corr()"
   ]
  },
  {
   "cell_type": "code",
   "execution_count": 26,
   "id": "cbe1d850",
   "metadata": {},
   "outputs": [],
   "source": [
    "keep_cols = []"
   ]
  },
  {
   "cell_type": "code",
   "execution_count": 27,
   "id": "74a9352a",
   "metadata": {},
   "outputs": [],
   "source": [
    "# for key,val in zip(X_corr.to_dict().keys(),X_corr.to_dict().values()):\n",
    "#     for val_key,val_vals in zip(val.keys(),val.values()):\n",
    "#         if val_key == key:\n",
    "#             pass\n",
    "#         else:\n",
    "#             if val_vals > 0.0:\n",
    "#                 if val_key not in keep_cols:\n",
    "#                     print(val_vals)\n",
    "#                     keep_cols.append(val_key)"
   ]
  },
  {
   "cell_type": "code",
   "execution_count": 28,
   "id": "e78384b2",
   "metadata": {},
   "outputs": [],
   "source": [
    "# fig,ax = plt.subplots(figsize=(25,12))\n",
    "# ax = sns.heatmap(X_corr,annot=True,linewidths=0.5,fmt='.2f',cmap='YlGnBu')"
   ]
  },
  {
   "cell_type": "code",
   "execution_count": 29,
   "id": "09e3ca36",
   "metadata": {},
   "outputs": [],
   "source": [
    "# keep_cols"
   ]
  },
  {
   "cell_type": "code",
   "execution_count": 30,
   "id": "514b16ab",
   "metadata": {},
   "outputs": [],
   "source": [
    "# len(keep_cols)"
   ]
  },
  {
   "cell_type": "code",
   "execution_count": 31,
   "id": "141d05b0",
   "metadata": {},
   "outputs": [
    {
     "name": "stdout",
     "output_type": "stream",
     "text": [
      "   Id  MSSubClass  MSZoning  LotFrontage  LotArea  Street  Alley  LotShape  \\\n",
      "0   1          60         0         65.0     8450       0      0         0   \n",
      "1   2          20         0         80.0     9600       0      0         0   \n",
      "2   3          60         0         68.0    11250       0      0         1   \n",
      "3   4          70         0         60.0     9550       0      0         1   \n",
      "4   5          60         0         84.0    14260       0      0         1   \n",
      "\n",
      "   LandContour  Utilities  ...  ScreenPorch  PoolArea  PoolQC  Fence  \\\n",
      "0            0          0  ...            0         0       0      0   \n",
      "1            0          0  ...            0         0       0      0   \n",
      "2            0          0  ...            0         0       0      0   \n",
      "3            0          0  ...            0         0       0      0   \n",
      "4            0          0  ...            0         0       0      0   \n",
      "\n",
      "   MiscFeature  MiscVal  MoSold  YrSold  SaleType  SaleCondition  \n",
      "0            0        0       2    2008         0              0  \n",
      "1            0        0       5    2007         0              0  \n",
      "2            0        0       9    2008         0              0  \n",
      "3            0        0       2    2006         0              1  \n",
      "4            0        0      12    2008         0              0  \n",
      "\n",
      "[5 rows x 80 columns]"
     ]
    }
   ],
   "source": [
    "X.head()"
   ]
  },
  {
   "cell_type": "code",
   "execution_count": 32,
   "id": "6b60e27a",
   "metadata": {},
   "outputs": [],
   "source": [
    "X_old = X.copy()"
   ]
  },
  {
   "cell_type": "code",
   "execution_count": 33,
   "id": "611d887a",
   "metadata": {},
   "outputs": [],
   "source": [
    "# for preproccessing in preproccessings:\n",
    "#     X = X_old.copy()\n",
    "#     preproccessing = preproccessing()\n",
    "#     X = preproccessing.fit_transform(X)\n",
    "#     train(GradientBoostingRegressor(),X,X,y,y,name=f'{preproccessing}-preproccessing')"
   ]
  },
  {
   "cell_type": "code",
   "execution_count": 34,
   "id": "7f32e19c",
   "metadata": {},
   "outputs": [],
   "source": [
    "X = X_old.copy()"
   ]
  },
  {
   "cell_type": "code",
   "execution_count": 35,
   "id": "03fe765b",
   "metadata": {},
   "outputs": [],
   "source": [
    "X = X_old.copy()"
   ]
  },
  {
   "cell_type": "code",
   "execution_count": 36,
   "id": "a667f9fa",
   "metadata": {},
   "outputs": [],
   "source": [
    "# X = feature_selection_prep_data(GradientBoostingRegressor(),X,y,select_from_model=False,variance_threshold=True,select_k_best=False,rfecv=False)\n",
    "# train(GradientBoostingRegressor(),X,X,y,y,name=f'select_from_model=False-variance_threshold=True-select_k_best=False-rfecv=False-decomposition')"
   ]
  },
  {
   "cell_type": "code",
   "execution_count": 37,
   "id": "a03aa91e",
   "metadata": {},
   "outputs": [],
   "source": [
    "X = X_old.copy()"
   ]
  },
  {
   "cell_type": "code",
   "execution_count": 38,
   "id": "e97b1dd3",
   "metadata": {},
   "outputs": [],
   "source": [
    "X = X_old.copy()"
   ]
  },
  {
   "cell_type": "code",
   "execution_count": 39,
   "id": "0ce727fe",
   "metadata": {},
   "outputs": [],
   "source": [
    "# X = feature_selection_prep_data(GradientBoostingRegressor(),X,y,select_from_model=False,variance_threshold=False,select_k_best=False,rfecv=True)\n",
    "# train(GradientBoostingRegressor(),X,X,y,y,name=f'select_from_model=False-variance_threshold=False-select_k_best=False-rfecv=True-decomposition')"
   ]
  },
  {
   "cell_type": "code",
   "execution_count": 40,
   "id": "930fbd82",
   "metadata": {},
   "outputs": [],
   "source": [
    "X = X_old.copy()"
   ]
  },
  {
   "cell_type": "code",
   "execution_count": 41,
   "id": "46483d72",
   "metadata": {},
   "outputs": [
    {
     "data": {
      "text/html": [
       "Finishing last run (ID:2hdjy00w) before initializing another..."
      ],
      "text/plain": [
       "<IPython.core.display.HTML object>"
      ]
     },
     "metadata": {},
     "output_type": "display_data"
    },
    {
     "data": {
      "text/html": [
       "<br/>Waiting for W&B process to finish, PID 248710<br/>Program ended successfully."
      ],
      "text/plain": [
       "<IPython.core.display.HTML object>"
      ]
     },
     "metadata": {},
     "output_type": "display_data"
    },
    {
     "data": {
      "application/vnd.jupyter.widget-view+json": {
       "model_id": "72549d823e254af183b805a3c97fd43e",
       "version_major": 2,
       "version_minor": 0
      },
      "text/plain": [
       "VBox(children=(Label(value=' 0.00MB of 0.00MB uploaded (0.00MB deduped)\\r'), FloatProgress(value=1.0, max=1.0)…"
      ]
     },
     "metadata": {},
     "output_type": "display_data"
    },
    {
     "data": {
      "text/html": [
       "Find user logs for this run at: <code>/home/indika/Programming/Projects/Python/Artifical-Intelligence/Sklearn-PyTorch/House-Prices-Advanced-Regression-Techniques-V9-Competition/wandb/run-20210825_150417-2hdjy00w/logs/debug.log</code>"
      ],
      "text/plain": [
       "<IPython.core.display.HTML object>"
      ]
     },
     "metadata": {},
     "output_type": "display_data"
    },
    {
     "data": {
      "text/html": [
       "Find internal logs for this run at: <code>/home/indika/Programming/Projects/Python/Artifical-Intelligence/Sklearn-PyTorch/House-Prices-Advanced-Regression-Techniques-V9-Competition/wandb/run-20210825_150417-2hdjy00w/logs/debug-internal.log</code>"
      ],
      "text/plain": [
       "<IPython.core.display.HTML object>"
      ]
     },
     "metadata": {},
     "output_type": "display_data"
    },
    {
     "data": {
      "text/html": [
       "<h3>Run summary:</h3><br/><style>\n",
       "    table.wandb td:nth-child(1) { padding: 0 10px; text-align: right }\n",
       "    </style><table class=\"wandb\">\n",
       "<tr><td>mean_absolute_error</td><td>14537.46385</td></tr><tr><td>mean_squared_error</td><td>379019671.82791</td></tr><tr><td>_runtime</td><td>6</td></tr><tr><td>_timestamp</td><td>1629884091</td></tr><tr><td>_step</td><td>1</td></tr><tr><td>val mean_absolute_error</td><td>14537.46385</td></tr><tr><td>val mean_squared_error</td><td>379019671.82791</td></tr></table>"
      ],
      "text/plain": [
       "<IPython.core.display.HTML object>"
      ]
     },
     "metadata": {},
     "output_type": "display_data"
    },
    {
     "data": {
      "text/html": [
       "<h3>Run history:</h3><br/><style>\n",
       "    table.wandb td:nth-child(1) { padding: 0 10px; text-align: right }\n",
       "    </style><table class=\"wandb\">\n",
       "<tr><td>mean_absolute_error</td><td>▁</td></tr><tr><td>mean_squared_error</td><td>▁</td></tr><tr><td>_runtime</td><td>▁▁</td></tr><tr><td>_timestamp</td><td>▁▁</td></tr><tr><td>_step</td><td>▁█</td></tr><tr><td>val mean_absolute_error</td><td>▁</td></tr><tr><td>val mean_squared_error</td><td>▁</td></tr></table><br/>"
      ],
      "text/plain": [
       "<IPython.core.display.HTML object>"
      ]
     },
     "metadata": {},
     "output_type": "display_data"
    },
    {
     "data": {
      "text/html": [
       "Synced 6 W&B file(s), 0 media file(s), 0 artifact file(s) and 0 other file(s)"
      ],
      "text/plain": [
       "<IPython.core.display.HTML object>"
      ]
     },
     "metadata": {},
     "output_type": "display_data"
    },
    {
     "data": {
      "text/html": [
       "\n",
       "                    <br/>Synced <strong style=\"color:#cdcd00\">XGBRFRegressor</strong>: <a href=\"https://wandb.ai/ranuga-d/House-Prices-Advanced-Regression-Techniques-V9/runs/2hdjy00w\" target=\"_blank\">https://wandb.ai/ranuga-d/House-Prices-Advanced-Regression-Techniques-V9/runs/2hdjy00w</a><br/>\n",
       "                "
      ],
      "text/plain": [
       "<IPython.core.display.HTML object>"
      ]
     },
     "metadata": {},
     "output_type": "display_data"
    },
    {
     "data": {
      "text/html": [
       "...Successfully finished last run (ID:2hdjy00w). Initializing new run:<br/><br/>"
      ],
      "text/plain": [
       "<IPython.core.display.HTML object>"
      ]
     },
     "metadata": {},
     "output_type": "display_data"
    },
    {
     "data": {
      "text/html": [
       "\n",
       "                Tracking run with wandb version 0.12.0<br/>\n",
       "                Syncing run <strong style=\"color:#cdcd00\">ExtraTreesRegressor</strong> to <a href=\"https://wandb.ai\" target=\"_blank\">Weights & Biases</a> <a href=\"https://docs.wandb.com/integrations/jupyter.html\" target=\"_blank\">(Documentation)</a>.<br/>\n",
       "                Project page: <a href=\"https://wandb.ai/ranuga-d/House-Prices-Advanced-Regression-Techniques-V9\" target=\"_blank\">https://wandb.ai/ranuga-d/House-Prices-Advanced-Regression-Techniques-V9</a><br/>\n",
       "                Run page: <a href=\"https://wandb.ai/ranuga-d/House-Prices-Advanced-Regression-Techniques-V9/runs/cbathygi\" target=\"_blank\">https://wandb.ai/ranuga-d/House-Prices-Advanced-Regression-Techniques-V9/runs/cbathygi</a><br/>\n",
       "                Run data is saved locally in <code>/home/indika/Programming/Projects/Python/Artifical-Intelligence/Sklearn-PyTorch/House-Prices-Advanced-Regression-Techniques-V9-Competition/wandb/run-20210825_150451-cbathygi</code><br/><br/>\n",
       "            "
      ],
      "text/plain": [
       "<IPython.core.display.HTML object>"
      ]
     },
     "metadata": {},
     "output_type": "display_data"
    }
   ],
   "source": [
    "for model in models:\n",
    "    try:\n",
    "        train(model[1](),X,X,y,y,name=f'{model[0]}')\n",
    "    except:\n",
    "        pass"
   ]
  },
  {
   "cell_type": "code",
   "execution_count": 42,
   "id": "234d60c9",
   "metadata": {},
   "outputs": [],
   "source": [
    "# for model in models:\n",
    "#     try:\n",
    "#         train(model[1](),X,X,y,y,name=f'{model[0]}')\n",
    "#     except:\n",
    "#         pass"
   ]
  },
  {
   "cell_type": "code",
   "execution_count": 43,
   "id": "51fb692e",
   "metadata": {},
   "outputs": [],
   "source": [
    "param_grid = {\n",
    "    'var_smoothing':[1e-9,1e-8,1e-7,1e-6,1e-5,1e-4,1e-3,1e-2,1e-1]\n",
    "}\n",
    "model = GaussianNB()\n",
    "model = GridSearchCV(model,cv=5,verbose=5,param_grid=param_grid)"
   ]
  },
  {
   "cell_type": "code",
   "execution_count": 44,
   "id": "4f4afd28",
   "metadata": {},
   "outputs": [],
   "source": [
    "model.best_params_"
   ]
  },
  {
   "cell_type": "code",
   "execution_count": 45,
   "id": "b0368998",
   "metadata": {},
   "outputs": [],
   "source": [
    "param_grid = {\n",
    "    'var_smoothing':[1e-9,1e-8,1e-7,1e-6,1e-5,1e-4,1e-3,1e-2,1e-1]\n",
    "}\n",
    "model = GaussianNB()\n",
    "model = GridSearchCV(model,cv=5,verbose=5,param_grid=param_grid).fit(X,y)"
   ]
  },
  {
   "cell_type": "code",
   "execution_count": 46,
   "id": "a3bfef13",
   "metadata": {},
   "outputs": [
    {
     "name": "stdout",
     "output_type": "stream",
     "text": [
      "{'var_smoothing': 1e-08}"
     ]
    }
   ],
   "source": [
    "model.best_params_"
   ]
  },
  {
   "cell_type": "code",
   "execution_count": 47,
   "id": "272f50c4",
   "metadata": {},
   "outputs": [],
   "source": [
    "param_grid = {\n",
    "    'var_smoothing':[1e-8,2e-8,3e-8,4e-8,5e-8,6e-8,7e-8,8e-8,9e-8]\n",
    "}\n",
    "model = GaussianNB()\n",
    "model = GridSearchCV(model,cv=5,verbose=5,param_grid=param_grid).fit(X,y)"
   ]
  },
  {
   "cell_type": "code",
   "execution_count": 48,
   "id": "b01d6070",
   "metadata": {},
   "outputs": [
    {
     "name": "stdout",
     "output_type": "stream",
     "text": [
      "{'var_smoothing': 1e-08}"
     ]
    }
   ],
   "source": [
    "model.best_params_"
   ]
  },
  {
   "cell_type": "code",
   "execution_count": 49,
   "id": "6ecb79f6",
   "metadata": {},
   "outputs": [
    {
     "name": "stdout",
     "output_type": "stream",
     "text": [
      "{'var_smoothing': 1e-08}"
     ]
    }
   ],
   "source": [
    "model.best_params_"
   ]
  },
  {
   "cell_type": "code",
   "execution_count": 50,
   "id": "b4ee49c3",
   "metadata": {},
   "outputs": [],
   "source": [
    "# param_grid = {\n",
    "#     'var_smoothing':[1e-8,2e-8,3e-8,4e-8,5e-8,6e-8,7e-8,8e-8,9e-8]\n",
    "# }\n",
    "# model = GaussianNB(var_smoothing=1e-8)\n",
    "# model = GridSearchCV(model,cv=5,verbose=5,param_grid=param_grid).fit(X,y)"
   ]
  },
  {
   "cell_type": "code",
   "execution_count": 51,
   "id": "fb8cabab",
   "metadata": {},
   "outputs": [],
   "source": [
    "model = GaussianNB(var_smoothing=1e-8)\n",
    "train(model,X,X,y,y,name=f'Final')"
   ]
  }
 ],
 "metadata": {
  "kernelspec": {
   "display_name": "Python 3",
   "language": "python",
   "name": "python3"
  },
  "language_info": {
   "codemirror_mode": {
    "name": "ipython",
    "version": 3
   },
   "file_extension": ".py",
   "mimetype": "text/x-python",
   "name": "python",
   "nbconvert_exporter": "python",
   "pygments_lexer": "ipython3",
   "version": "3.7.7"
  }
 },
 "nbformat": 4,
 "nbformat_minor": 5
}
