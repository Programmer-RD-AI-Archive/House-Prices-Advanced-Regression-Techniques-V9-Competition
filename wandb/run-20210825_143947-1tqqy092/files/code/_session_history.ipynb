{
 "cells": [
  {
   "cell_type": "code",
   "execution_count": 1,
   "id": "e0e577b0",
   "metadata": {},
   "outputs": [
    {
     "name": "stdout",
     "output_type": "stream",
     "text": [
      "<torch._C.Generator at 0x7fbbb7b4e890>"
     ]
    }
   ],
   "source": [
    "import random\n",
    "import seaborn as sns\n",
    "import pandas as pd\n",
    "import numpy as np\n",
    "import matplotlib.pyplot as plt\n",
    "import sklearn\n",
    "import torch,torchvision\n",
    "from torch.nn import *\n",
    "from torch.optim import *\n",
    "# Preproccessing\n",
    "from sklearn.preprocessing import (\n",
    "    StandardScaler,\n",
    "    RobustScaler,\n",
    "    MinMaxScaler,\n",
    "    MaxAbsScaler,\n",
    "    OneHotEncoder,\n",
    "    Normalizer,\n",
    "    Binarizer\n",
    ")\n",
    "# Decomposition\n",
    "from sklearn.decomposition import PCA\n",
    "from sklearn.decomposition import KernelPCA\n",
    "# Feature Selection\n",
    "from sklearn.feature_selection import VarianceThreshold\n",
    "from sklearn.feature_selection import SelectKBest\n",
    "from sklearn.feature_selection import RFECV\n",
    "from sklearn.feature_selection import SelectFromModel\n",
    "# Model Eval\n",
    "from sklearn.compose import make_column_transformer\n",
    "from sklearn.model_selection import GridSearchCV\n",
    "from sklearn.model_selection import cross_val_score,train_test_split\n",
    "from sklearn.metrics import mean_absolute_error,mean_squared_error,accuracy_score,precision_score,f1_score,recall_score\n",
    "# Models\n",
    "from sklearn.neighbors import KNeighborsRegressor\n",
    "from sklearn.linear_model import LogisticRegression,LogisticRegressionCV\n",
    "from sklearn.naive_bayes import GaussianNB\n",
    "from sklearn.tree import DecisionTreeRegressor\n",
    "from sklearn.ensemble import GradientBoostingRegressor,AdaBoostRegressor,VotingRegressor,BaggingRegressor,RandomForestRegressor\n",
    "from sklearn.svm import SVR\n",
    "from sklearn.ensemble import BaggingRegressor\n",
    "from sklearn.ensemble import ExtraTreesRegressor\n",
    "from catboost import CatBoost,CatBoostRegressor\n",
    "from xgboost import XGBRegressor,XGBRFRegressor\n",
    "from flaml import AutoML\n",
    "# Other\n",
    "import pickle\n",
    "import wandb\n",
    "\n",
    "PROJECT_NAME = 'House-Prices-Advanced-Regression-Techniques-V9'\n",
    "device = 'cuda'\n",
    "np.random.seed(21)\n",
    "random.seed(21)\n",
    "torch.manual_seed(21)"
   ]
  },
  {
   "cell_type": "code",
   "execution_count": 2,
   "id": "cc712e0f",
   "metadata": {},
   "outputs": [],
   "source": [
    "def make_submission(model,name):\n",
    "    data = pd.read_csv('./data/test.csv')\n",
    "    ids = data['Id']\n",
    "    str_cols = []\n",
    "    int_cols = []\n",
    "    for col_name,num_of_missing_rows,dtype in zip(list(data.columns),data.isna().sum(),data.dtypes):\n",
    "        if dtype == object:\n",
    "            str_cols.append(col_name)\n",
    "        else:\n",
    "            int_cols.append(col_name)\n",
    "    for str_col in str_cols:\n",
    "        data,idx,labels_and_int_index,new_data = object_to_int(data,str_col)\n",
    "    nan_cols = []\n",
    "    for col_name,num_of_missing_rows,dtype in zip(list(data.columns),data.isna().sum(),data.dtypes):\n",
    "        if num_of_missing_rows > 0:\n",
    "            nan_cols.append(col_name)\n",
    "    for nan_col in nan_cols:\n",
    "        data[nan_col].fillna(data[nan_col].median(),inplace=True)\n",
    "    preds = model.predict(data)\n",
    "    df = pd.DataFrame({'Id':ids,'SalePrice':preds})\n",
    "    df.to_csv(f'./submission/{name}.csv',index=False)"
   ]
  },
  {
   "cell_type": "code",
   "execution_count": 3,
   "id": "88d07e6a",
   "metadata": {},
   "outputs": [],
   "source": [
    "def valid(model,X,y,valid=False):\n",
    "    preds = model.predict(X)\n",
    "    if valid:\n",
    "        results = {\n",
    "            'val mean_absolute_error':mean_absolute_error(y_true=y,y_pred=preds),\n",
    "            'val mean_squared_error':mean_squared_error(y_true=y,y_pred=preds),\n",
    "        }\n",
    "    else:\n",
    "        results = {\n",
    "            'mean_absolute_error':mean_absolute_error(y_true=y,y_pred=preds),\n",
    "            'mean_squared_error':mean_squared_error(y_true=y,y_pred=preds),\n",
    "        }\n",
    "    return results"
   ]
  },
  {
   "cell_type": "code",
   "execution_count": 4,
   "id": "3faf0edb",
   "metadata": {},
   "outputs": [],
   "source": [
    "def train(model,X_train,X_test,y_train,y_test,name):\n",
    "    wandb.init(project=PROJECT_NAME,name=name)\n",
    "    model.fit(X_train,y_train)\n",
    "    wandb.log(valid(model,X_train,y_train))\n",
    "    wandb.log(valid(model,X_test,y_test,True))\n",
    "    make_submission(model,name)\n",
    "    return model"
   ]
  },
  {
   "cell_type": "code",
   "execution_count": 5,
   "id": "0289a01b",
   "metadata": {},
   "outputs": [],
   "source": [
    "def object_to_int(data,col):\n",
    "    data_col = data[col].to_dict()\n",
    "    idx = -1\n",
    "    labels_and_int_index = {}\n",
    "    for data_col_vals in data_col.values():\n",
    "        if data_col_vals not in labels_and_int_index.keys():\n",
    "            idx += 1\n",
    "            labels_and_int_index[data_col_vals] = idx\n",
    "    new_data = []\n",
    "    for data_col_vals in data_col.values():\n",
    "        new_data.append(labels_and_int_index[data_col_vals])\n",
    "    data[col] = new_data\n",
    "    return data,idx,labels_and_int_index,new_data"
   ]
  },
  {
   "cell_type": "code",
   "execution_count": 6,
   "id": "a4080357",
   "metadata": {},
   "outputs": [],
   "source": [
    "def fe(data,col,quantile_max_num=0.99,quantile_min_num=0.05):\n",
    "    max_num = data[col].quantile(quantile_max_num)\n",
    "    min_num = data[col].quantile(quantile_min_num)\n",
    "    print(max_num)\n",
    "    print(min_num)\n",
    "    data = data[data[col] < max_num]\n",
    "    data = data[data[col] > min_num]\n",
    "    return data"
   ]
  },
  {
   "cell_type": "code",
   "execution_count": 7,
   "id": "277f0bd0",
   "metadata": {},
   "outputs": [],
   "source": [
    "def decomposition(X,pca=False,kernal_pca=False):\n",
    "    if pca:\n",
    "        pca = PCA()\n",
    "        X = pca.fit_transform(X)\n",
    "    if kernal_pca:\n",
    "        kernal_pca = KernelPCA()\n",
    "        X = kernal_pca.fit_transform(X)\n",
    "    return X"
   ]
  },
  {
   "cell_type": "code",
   "execution_count": 8,
   "id": "8969eeaa",
   "metadata": {},
   "outputs": [],
   "source": [
    "def feature_selection_prep_data(model,X,y,select_from_model=False,variance_threshold=False,select_k_best=False,rfecv=False):\n",
    "    if select_from_model:\n",
    "        transform = SelectFromModel(estimator=model.fit(X, y))\n",
    "        X = transform.transform(X)\n",
    "    if variance_threshold:\n",
    "        transform = VarianceThreshold()\n",
    "        X = transform.fit_transform(X)\n",
    "    if select_k_best:\n",
    "        X = SelectKBest(chi2, k='all').fit_transform(X, y)\n",
    "    if rfecv:\n",
    "        X = RFECV(model, step=1, cv=5).fit(X, y)\n",
    "        X = X.transform(X)\n",
    "    return X"
   ]
  },
  {
   "cell_type": "code",
   "execution_count": 9,
   "id": "bf2d2daa",
   "metadata": {},
   "outputs": [],
   "source": [
    "def prep_data(X,transformer):\n",
    "    mct = make_column_transformer(\n",
    "        (transformer,list(X.columns)),\n",
    "        remainder='passthrough'\n",
    "    )\n",
    "    X = mct.fit_transform(X)\n",
    "    return X"
   ]
  },
  {
   "cell_type": "code",
   "execution_count": 10,
   "id": "7c97b8eb",
   "metadata": {},
   "outputs": [],
   "source": [
    "data = pd.read_csv('./data/train.csv')"
   ]
  },
  {
   "cell_type": "code",
   "execution_count": 11,
   "id": "8a5d633b",
   "metadata": {},
   "outputs": [],
   "source": [
    "preproccessings = [StandardScaler,RobustScaler,MinMaxScaler,MaxAbsScaler,OneHotEncoder,Normalizer,Binarizer]"
   ]
  },
  {
   "cell_type": "code",
   "execution_count": 12,
   "id": "43071f14",
   "metadata": {},
   "outputs": [],
   "source": [
    "models = [\n",
    "    ['KNeighborsRegressor',KNeighborsRegressor],\n",
    "    ['LogisticRegression',LogisticRegression],\n",
    "    ['LogisticRegressionCV',LogisticRegressionCV],\n",
    "    ['DecisionTreeRegressor',DecisionTreeRegressor],\n",
    "    ['GradientBoostingRegressor',GradientBoostingRegressor],\n",
    "    ['AdaBoostRegressor',AdaBoostRegressor],\n",
    "    ['RandomForestRegressor',RandomForestRegressor],\n",
    "    ['BaggingRegressor',BaggingRegressor],\n",
    "    ['GaussianNB',GaussianNB],\n",
    "    ['ExtraTreesRegressor',ExtraTreesRegressor],\n",
    "    ['CatBoost',CatBoost],\n",
    "    ['CatBoostRegressor',CatBoostRegressor],\n",
    "    ['XGBRegressor',XGBRegressor],\n",
    "    ['XGBRFRegressor',XGBRFRegressor],\n",
    "    ['ExtraTreesRegressor',ExtraTreesRegressor],\n",
    "]"
   ]
  },
  {
   "cell_type": "code",
   "execution_count": 13,
   "id": "041a271f",
   "metadata": {},
   "outputs": [],
   "source": [
    "X = data.drop('SalePrice',axis=1)\n",
    "y = data['SalePrice']"
   ]
  },
  {
   "cell_type": "code",
   "execution_count": 14,
   "id": "d7f95ea9",
   "metadata": {},
   "outputs": [],
   "source": [
    "str_cols = []\n",
    "int_cols = []"
   ]
  },
  {
   "cell_type": "code",
   "execution_count": 15,
   "id": "cd8c05ed",
   "metadata": {},
   "outputs": [],
   "source": [
    "for col_name,num_of_missing_rows,dtype in zip(list(X.columns),X.isna().sum(),X.dtypes):\n",
    "    if dtype == object:\n",
    "        str_cols.append(col_name)\n",
    "    else:\n",
    "        int_cols.append(col_name)"
   ]
  },
  {
   "cell_type": "code",
   "execution_count": 16,
   "id": "5bbbaccd",
   "metadata": {},
   "outputs": [],
   "source": [
    "for str_col in str_cols:\n",
    "    X,idx,labels_and_int_index,new_data = object_to_int(X,str_col)"
   ]
  },
  {
   "cell_type": "code",
   "execution_count": 17,
   "id": "fa80c9e2",
   "metadata": {},
   "outputs": [
    {
     "name": "stdout",
     "output_type": "stream",
     "text": [
      "   Id  MSSubClass  MSZoning  LotFrontage  LotArea  Street  Alley  LotShape  \\\n",
      "0   1          60         0         65.0     8450       0      0         0   \n",
      "1   2          20         0         80.0     9600       0      0         0   \n",
      "2   3          60         0         68.0    11250       0      0         1   \n",
      "3   4          70         0         60.0     9550       0      0         1   \n",
      "4   5          60         0         84.0    14260       0      0         1   \n",
      "\n",
      "   LandContour  Utilities  ...  ScreenPorch  PoolArea  PoolQC  Fence  \\\n",
      "0            0          0  ...            0         0       0      0   \n",
      "1            0          0  ...            0         0       0      0   \n",
      "2            0          0  ...            0         0       0      0   \n",
      "3            0          0  ...            0         0       0      0   \n",
      "4            0          0  ...            0         0       0      0   \n",
      "\n",
      "   MiscFeature  MiscVal  MoSold  YrSold  SaleType  SaleCondition  \n",
      "0            0        0       2    2008         0              0  \n",
      "1            0        0       5    2007         0              0  \n",
      "2            0        0       9    2008         0              0  \n",
      "3            0        0       2    2006         0              1  \n",
      "4            0        0      12    2008         0              0  \n",
      "\n",
      "[5 rows x 80 columns]"
     ]
    }
   ],
   "source": [
    "X.head()"
   ]
  },
  {
   "cell_type": "code",
   "execution_count": 18,
   "id": "582fb1f5",
   "metadata": {},
   "outputs": [],
   "source": [
    "nan_cols = []\n",
    "for col_name,num_of_missing_rows,dtype in zip(list(X.columns),X.isna().sum(),X.dtypes):\n",
    "    if num_of_missing_rows > 0:\n",
    "        nan_cols.append(col_name)"
   ]
  },
  {
   "cell_type": "code",
   "execution_count": 19,
   "id": "fbadda35",
   "metadata": {},
   "outputs": [],
   "source": [
    "for nan_col in nan_cols:\n",
    "    X[nan_col].fillna(X[nan_col].median(),inplace=True)"
   ]
  },
  {
   "cell_type": "code",
   "execution_count": 20,
   "id": "e1b65ca6",
   "metadata": {},
   "outputs": [],
   "source": [
    "nan_cols = []\n",
    "for col_name,num_of_missing_rows,dtype in zip(list(X.columns),X.isna().sum(),X.dtypes):\n",
    "    if num_of_missing_rows > 0:\n",
    "        nan_cols.append(col_name)"
   ]
  },
  {
   "cell_type": "code",
   "execution_count": 21,
   "id": "2ab6869c",
   "metadata": {},
   "outputs": [],
   "source": [
    "# train(GradientBoostingRegressor(),X,X,y,y,name='baseline-without-fe')"
   ]
  },
  {
   "cell_type": "code",
   "execution_count": 22,
   "id": "6928111f",
   "metadata": {},
   "outputs": [],
   "source": [
    "X_old = X.copy()"
   ]
  },
  {
   "cell_type": "code",
   "execution_count": 23,
   "id": "c4f4f714",
   "metadata": {},
   "outputs": [],
   "source": [
    "# for col_name in list(X.columns):\n",
    "#     try:\n",
    "#         X = X_old.copy()\n",
    "#         X = fe(X,col_name)\n",
    "#         train(GradientBoostingRegressor(),X,X,y,y,name=f'baseline-with-fe-{col_name}')\n",
    "#     except:\n",
    "#         print('*'*50)\n",
    "#         print('*'*50)"
   ]
  },
  {
   "cell_type": "code",
   "execution_count": 24,
   "id": "1d56b897",
   "metadata": {},
   "outputs": [],
   "source": [
    "# X = X_old.copy()"
   ]
  },
  {
   "cell_type": "code",
   "execution_count": 25,
   "id": "043e277a",
   "metadata": {},
   "outputs": [],
   "source": [
    "X_corr = X_old.corr()"
   ]
  },
  {
   "cell_type": "code",
   "execution_count": 26,
   "id": "ab649703",
   "metadata": {},
   "outputs": [],
   "source": [
    "keep_cols = []"
   ]
  },
  {
   "cell_type": "code",
   "execution_count": 27,
   "id": "24864249",
   "metadata": {},
   "outputs": [],
   "source": [
    "# for key,val in zip(X_corr.to_dict().keys(),X_corr.to_dict().values()):\n",
    "#     for val_key,val_vals in zip(val.keys(),val.values()):\n",
    "#         if val_key == key:\n",
    "#             pass\n",
    "#         else:\n",
    "#             if val_vals > 0.0:\n",
    "#                 if val_key not in keep_cols:\n",
    "#                     print(val_vals)\n",
    "#                     keep_cols.append(val_key)"
   ]
  },
  {
   "cell_type": "code",
   "execution_count": 28,
   "id": "fb07e636",
   "metadata": {},
   "outputs": [],
   "source": [
    "# fig,ax = plt.subplots(figsize=(25,12))\n",
    "# ax = sns.heatmap(X_corr,annot=True,linewidths=0.5,fmt='.2f',cmap='YlGnBu')"
   ]
  },
  {
   "cell_type": "code",
   "execution_count": 29,
   "id": "b3c3a89d",
   "metadata": {},
   "outputs": [],
   "source": [
    "# keep_cols"
   ]
  },
  {
   "cell_type": "code",
   "execution_count": 30,
   "id": "73f75819",
   "metadata": {},
   "outputs": [],
   "source": [
    "# len(keep_cols)"
   ]
  },
  {
   "cell_type": "code",
   "execution_count": 31,
   "id": "f1f88550",
   "metadata": {},
   "outputs": [
    {
     "name": "stdout",
     "output_type": "stream",
     "text": [
      "   Id  MSSubClass  MSZoning  LotFrontage  LotArea  Street  Alley  LotShape  \\\n",
      "0   1          60         0         65.0     8450       0      0         0   \n",
      "1   2          20         0         80.0     9600       0      0         0   \n",
      "2   3          60         0         68.0    11250       0      0         1   \n",
      "3   4          70         0         60.0     9550       0      0         1   \n",
      "4   5          60         0         84.0    14260       0      0         1   \n",
      "\n",
      "   LandContour  Utilities  ...  ScreenPorch  PoolArea  PoolQC  Fence  \\\n",
      "0            0          0  ...            0         0       0      0   \n",
      "1            0          0  ...            0         0       0      0   \n",
      "2            0          0  ...            0         0       0      0   \n",
      "3            0          0  ...            0         0       0      0   \n",
      "4            0          0  ...            0         0       0      0   \n",
      "\n",
      "   MiscFeature  MiscVal  MoSold  YrSold  SaleType  SaleCondition  \n",
      "0            0        0       2    2008         0              0  \n",
      "1            0        0       5    2007         0              0  \n",
      "2            0        0       9    2008         0              0  \n",
      "3            0        0       2    2006         0              1  \n",
      "4            0        0      12    2008         0              0  \n",
      "\n",
      "[5 rows x 80 columns]"
     ]
    }
   ],
   "source": [
    "X.head()"
   ]
  },
  {
   "cell_type": "code",
   "execution_count": 32,
   "id": "9b091814",
   "metadata": {},
   "outputs": [],
   "source": [
    "X_old = X.copy()"
   ]
  },
  {
   "cell_type": "code",
   "execution_count": 33,
   "id": "3f18e14b",
   "metadata": {},
   "outputs": [],
   "source": [
    "# for preproccessing in preproccessings:\n",
    "#     X = X_old.copy()\n",
    "#     preproccessing = preproccessing()\n",
    "#     X = preproccessing.fit_transform(X)\n",
    "#     train(GradientBoostingRegressor(),X,X,y,y,name=f'{preproccessing}-preproccessing')"
   ]
  },
  {
   "cell_type": "code",
   "execution_count": 34,
   "id": "db3548b9",
   "metadata": {},
   "outputs": [],
   "source": [
    "X = X_old.copy()"
   ]
  },
  {
   "cell_type": "code",
   "execution_count": 35,
   "id": "9c42faaf",
   "metadata": {},
   "outputs": [],
   "source": [
    "X = X_old.copy()"
   ]
  },
  {
   "cell_type": "code",
   "execution_count": 36,
   "id": "996fb2ab",
   "metadata": {},
   "outputs": [],
   "source": [
    "# X = feature_selection_prep_data(GradientBoostingRegressor(),X,y,select_from_model=False,variance_threshold=True,select_k_best=False,rfecv=False)\n",
    "# train(GradientBoostingRegressor(),X,X,y,y,name=f'select_from_model=False-variance_threshold=True-select_k_best=False-rfecv=False-decomposition')"
   ]
  },
  {
   "cell_type": "code",
   "execution_count": 37,
   "id": "40d871f1",
   "metadata": {},
   "outputs": [],
   "source": [
    "X = X_old.copy()"
   ]
  },
  {
   "cell_type": "code",
   "execution_count": 38,
   "id": "b89864d0",
   "metadata": {},
   "outputs": [],
   "source": [
    "X = X_old.copy()"
   ]
  },
  {
   "cell_type": "code",
   "execution_count": 39,
   "id": "32facf9a",
   "metadata": {},
   "outputs": [],
   "source": [
    "# X = feature_selection_prep_data(GradientBoostingRegressor(),X,y,select_from_model=False,variance_threshold=False,select_k_best=False,rfecv=True)\n",
    "# train(GradientBoostingRegressor(),X,X,y,y,name=f'select_from_model=False-variance_threshold=False-select_k_best=False-rfecv=True-decomposition')"
   ]
  },
  {
   "cell_type": "code",
   "execution_count": 40,
   "id": "42c2ea82",
   "metadata": {},
   "outputs": [],
   "source": [
    "X = X_old.copy()"
   ]
  },
  {
   "cell_type": "code",
   "execution_count": 41,
   "id": "c25eec5e",
   "metadata": {},
   "outputs": [
    {
     "data": {
      "text/html": [
       "\n",
       "                Tracking run with wandb version 0.12.0<br/>\n",
       "                Syncing run <strong style=\"color:#cdcd00\">KNeighborsRegressor</strong> to <a href=\"https://wandb.ai\" target=\"_blank\">Weights & Biases</a> <a href=\"https://docs.wandb.com/integrations/jupyter.html\" target=\"_blank\">(Documentation)</a>.<br/>\n",
       "                Project page: <a href=\"https://wandb.ai/ranuga-d/House-Prices-Advanced-Regression-Techniques-V9\" target=\"_blank\">https://wandb.ai/ranuga-d/House-Prices-Advanced-Regression-Techniques-V9</a><br/>\n",
       "                Run page: <a href=\"https://wandb.ai/ranuga-d/House-Prices-Advanced-Regression-Techniques-V9/runs/1tqqy092\" target=\"_blank\">https://wandb.ai/ranuga-d/House-Prices-Advanced-Regression-Techniques-V9/runs/1tqqy092</a><br/>\n",
       "                Run data is saved locally in <code>/home/indika/Programming/Projects/Python/Artifical-Intelligence/Sklearn-PyTorch/House-Prices-Advanced-Regression-Techniques-V9-Competition/wandb/run-20210825_143947-1tqqy092</code><br/><br/>\n",
       "            "
      ],
      "text/plain": [
       "<IPython.core.display.HTML object>"
      ]
     },
     "metadata": {},
     "output_type": "display_data"
    }
   ],
   "source": [
    "for model in models:\n",
    "    train(model[1](),X,X,y,y,name=f'{model[0]}')"
   ]
  }
 ],
 "metadata": {
  "kernelspec": {
   "display_name": "Python 3",
   "language": "python",
   "name": "python3"
  },
  "language_info": {
   "codemirror_mode": {
    "name": "ipython",
    "version": 3
   },
   "file_extension": ".py",
   "mimetype": "text/x-python",
   "name": "python",
   "nbconvert_exporter": "python",
   "pygments_lexer": "ipython3",
   "version": "3.7.7"
  }
 },
 "nbformat": 4,
 "nbformat_minor": 5
}
