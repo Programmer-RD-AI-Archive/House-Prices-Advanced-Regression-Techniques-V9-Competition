{
 "cells": [
  {
   "cell_type": "markdown",
   "id": "a36db137-d048-44e0-9032-696e5e1373a3",
   "metadata": {},
   "source": [
    "# WorkFlow\n",
    "### Imports\n",
    "### Load the data\n",
    "### Cleanning\n",
    "### FE\n",
    "### Data.corr()\n",
    "### Analytics\n",
    "### Preproccessing\n",
    "### Decomposition\n",
    "### Feature Selection\n",
    "### Modelling\n",
    "### Random Search\n",
    "### Gird Search"
   ]
  },
  {
   "cell_type": "markdown",
   "id": "11135137-37ce-4d64-abdc-07c4b2de9d41",
   "metadata": {},
   "source": [
    "## Imports"
   ]
  },
  {
   "cell_type": "code",
   "execution_count": null,
   "id": "6c84ba90-8528-4c00-a265-b38aabc4134b",
   "metadata": {},
   "outputs": [],
   "source": [
    "import random\n",
    "import seaborn as sns\n",
    "import pandas as pd\n",
    "import numpy as np\n",
    "import matplotlib.pyplot as plt\n",
    "import sklearn\n",
    "import torch,torchvision\n",
    "from torch.nn import *\n",
    "from torch.optim import *\n",
    "# Preproccessing\n",
    "from sklearn.preprocessing import (\n",
    "    StandardScaler,\n",
    "    RobustScaler,\n",
    "    MinMaxScaler,\n",
    "    MaxAbsScaler,\n",
    "    OneHotEncoder,\n",
    "    Normalizer,\n",
    "    Binarizer\n",
    ")\n",
    "# Decomposition\n",
    "from sklearn.decomposition import PCA\n",
    "from sklearn.decomposition import KernelPCA\n",
    "# Feature Selection\n",
    "from sklearn.feature_selection import VarianceThreshold\n",
    "from sklearn.feature_selection import SelectKBest\n",
    "from sklearn.feature_selection import RFECV\n",
    "from sklearn.feature_selection import SelectFromModel\n",
    "# Model Eval\n",
    "from sklearn.compose import make_column_transformer\n",
    "from sklearn.model_selection import GridSearchCV\n",
    "from sklearn.model_selection import cross_val_score,train_test_split\n",
    "from sklearn.metrics import mean_absolute_error,mean_squared_error,accuracy_score,precision_score,f1_score,recall_score\n",
    "# Models\n",
    "from sklearn.neighbors import KNeighborsRegressor\n",
    "from sklearn.linear_model import LogisticRegression,LogisticRegressionCV\n",
    "from sklearn.naive_bayes import GaussianNB\n",
    "from sklearn.tree import DecisionTreeRegressor\n",
    "from sklearn.ensemble import GradientBoostingRegressor,AdaBoostRegressor,VotingRegressor,BaggingRegressor,RandomForestRegressor\n",
    "from sklearn.svm import SVR\n",
    "from sklearn.ensemble import BaggingRegressor\n",
    "from sklearn.ensemble import ExtraTreesRegressor\n",
    "from catboost import CatBoost,CatBoostRegressor\n",
    "from xgboost import XGBRegressor,XGBRFRegressor\n",
    "from flaml import AutoML\n",
    "# Other\n",
    "import pickle\n",
    "import wandb\n",
    "\n",
    "PROJECT_NAME = 'House-Prices-Advanced-Regression-Techniques-V9'\n",
    "device = 'cuda'\n",
    "np.random.seed(21)\n",
    "random.seed(21)\n",
    "torch.manual_seed(21)"
   ]
  },
  {
   "cell_type": "markdown",
   "id": "dfe216b8-a5d7-4301-a8a6-332b863c9a3c",
   "metadata": {},
   "source": [
    "### Funtions"
   ]
  },
  {
   "cell_type": "code",
   "execution_count": null,
   "id": "0cad9e2e-8ab5-4eee-8688-3f030ba4cae5",
   "metadata": {},
   "outputs": [],
   "source": [
    "def make_submission(model):\n",
    "    pass"
   ]
  },
  {
   "cell_type": "code",
   "execution_count": null,
   "id": "153b1c2b-f502-4a68-88d2-697d9ced4d12",
   "metadata": {},
   "outputs": [],
   "source": [
    "def valid(model,X,y,valid=False):\n",
    "    preds = model.predict(X)\n",
    "    if valid:\n",
    "        results = {\n",
    "            'val mean_absolute_error':mean_absolute_error(y_true=y,y_pred=preds),\n",
    "            'val mean_squared_error':mean_squared_error(y_true=y,y_pred=preds),\n",
    "        }\n",
    "    else:\n",
    "        results = {\n",
    "            'mean_absolute_error':mean_absolute_error(y_true=y,y_pred=preds),\n",
    "            'mean_squared_error':mean_squared_error(y_true=y,y_pred=preds),\n",
    "        }\n",
    "    return results"
   ]
  },
  {
   "cell_type": "code",
   "execution_count": null,
   "id": "3e4171ea-59dd-462f-b983-30930d52ca9c",
   "metadata": {},
   "outputs": [],
   "source": [
    "def train(model,X_train,X_test,y_train,y_test,name):\n",
    "    wandb.init(project=PROJECT_NAME,name=name)\n",
    "    model.fit(X_train,y_train)\n",
    "    wandb.log(valid(model,X_train,y_train))\n",
    "    wandb.log(valid(model,X_test,y_test,True))\n",
    "    make_submission(model)\n",
    "    return model"
   ]
  },
  {
   "cell_type": "code",
   "execution_count": null,
   "id": "b1303246-1efd-4128-8f6c-93a06ee0c360",
   "metadata": {},
   "outputs": [],
   "source": [
    "def object_to_int(data,col):\n",
    "    data_col = data[col].to_dict()\n",
    "    idx = -1\n",
    "    labels_and_int_index = {}\n",
    "    for data_col_vals in data_col.values():\n",
    "        if data_col_vals not in labels_and_int_index.keys():\n",
    "            idx += 1\n",
    "            labels_and_int_index[data_col_vals] = idx\n",
    "    new_data = []\n",
    "    for data_col_vals in data_col.values():\n",
    "        new_data.append(labels_and_int_index[data_col_vals])\n",
    "    data[col] = new_data\n",
    "    return data,idx,labels_and_int_index,new_data"
   ]
  },
  {
   "cell_type": "code",
   "execution_count": null,
   "id": "eadd4492-e14b-4374-8bf8-3e63434aa90a",
   "metadata": {},
   "outputs": [],
   "source": [
    "def fe(data,col,quantile_max_num=0.95,quantile_min_num=0.05):\n",
    "    max_num = data[col].quantile(quantile_max_num)\n",
    "    min_num = data[col].quantile(quantile_min_num)\n",
    "    data = data[data[col] < max_num]\n",
    "    data = data[data[col] > min_num]\n",
    "    return data"
   ]
  },
  {
   "cell_type": "code",
   "execution_count": null,
   "id": "21df41f3-9963-4cf4-ad9c-1306675487ea",
   "metadata": {},
   "outputs": [],
   "source": [
    "def decomposition(X,pca=False,kernal_pca=False):\n",
    "    if pca:\n",
    "        pca = PCA()\n",
    "        X = pca.fit_transform(X)\n",
    "    if kernal_pca:\n",
    "        kernal_pca = KernelPCA()\n",
    "        X = kernal_pca.fit_transform(X)\n",
    "    return X"
   ]
  },
  {
   "cell_type": "code",
   "execution_count": null,
   "id": "32ae1901-ee2c-42ab-bbd8-b36df0bdfbec",
   "metadata": {},
   "outputs": [],
   "source": [
    "def feature_selection_prep_data(model,X,y,select_from_model=False,variance_threshold=False,select_k_best=False,rfecv=False):\n",
    "    if select_from_model:\n",
    "        transform = SelectFromModel(estimator=model.fit(X, y))\n",
    "        X = transform.transform(X)\n",
    "    if variance_threshold:\n",
    "        transform = VarianceThreshold()\n",
    "        X = transform.fit_transform(X)\n",
    "    if select_k_best:\n",
    "        X = SelectKBest(chi2, k='all').fit_transform(X, y)\n",
    "    if rfecv:\n",
    "        X = RFECV(model, step=1, cv=5).fit(X, y)\n",
    "        X = X.transform(X)\n",
    "    return X"
   ]
  },
  {
   "cell_type": "code",
   "execution_count": null,
   "id": "9b13a5d4-c99b-4050-bf7b-bdea3207b837",
   "metadata": {},
   "outputs": [],
   "source": [
    "def prep_data(X,transformer):\n",
    "    mct = make_column_transformer(\n",
    "        (transformer,list(X.columns)),\n",
    "        remainder='passthrough'\n",
    "    )\n",
    "    X = mct.fit_transform(X)\n",
    "    return X"
   ]
  },
  {
   "cell_type": "markdown",
   "id": "ac228b6c-251e-4e9b-9f35-a010e97d05d5",
   "metadata": {},
   "source": [
    "## Load the data"
   ]
  },
  {
   "cell_type": "code",
   "execution_count": null,
   "id": "0891bad1-7abc-43ce-a6ef-9d22f76302cb",
   "metadata": {},
   "outputs": [],
   "source": [
    "data = pd.read_csv('./data/train.csv')"
   ]
  },
  {
   "cell_type": "code",
   "execution_count": null,
   "id": "eac3ede7-5d0e-4c73-a19e-07d37225fbbd",
   "metadata": {},
   "outputs": [],
   "source": [
    "preproccessings = [StandardScaler,RobustScaler,MinMaxScaler,MaxAbsScaler,OneHotEncoder,Normalizer,Binarizer]"
   ]
  },
  {
   "cell_type": "code",
   "execution_count": null,
   "id": "36bf2abe-641f-4ce0-a901-631c91358bde",
   "metadata": {},
   "outputs": [],
   "source": [
    "models = [\n",
    "    ['KNeighborsRegressor',KNeighborsRegressor],\n",
    "    ['LogisticRegression',LogisticRegression],\n",
    "    ['LogisticRegressionCV',LogisticRegressionCV],\n",
    "    ['DecisionTreeRegressor',DecisionTreeRegressor],\n",
    "    ['GradientBoostingRegressor',GradientBoostingRegressor],\n",
    "    ['AdaBoostRegressor',AdaBoostRegressor],\n",
    "    ['RandomForestRegressor',RandomForestRegressor],\n",
    "    ['BaggingRegressor',BaggingRegressor],\n",
    "    ['GaussianNB',GaussianNB],\n",
    "    ['ExtraTreesRegressor',ExtraTreesRegressor],\n",
    "    ['CatBoost',CatBoost],\n",
    "    ['CatBoostRegressor',CatBoostRegressor],\n",
    "    ['XGBRegressor',XGBRegressor],\n",
    "    ['XGBRFRegressor',XGBRFRegressor],\n",
    "    ['ExtraTreesRegressor',ExtraTreesRegressor],\n",
    "]"
   ]
  },
  {
   "cell_type": "markdown",
   "id": "f17391a7-9f4b-48b1-a323-39af3633e614",
   "metadata": {},
   "source": [
    "## Cleanning the data"
   ]
  },
  {
   "cell_type": "code",
   "execution_count": null,
   "id": "bf45b958-e4e4-4158-8055-f4592b54ae38",
   "metadata": {},
   "outputs": [],
   "source": [
    "X = data.drop('SalePrice',axis=1)\n",
    "y = data['SalePrice']"
   ]
  },
  {
   "cell_type": "code",
   "execution_count": null,
   "id": "590b65d7-54e1-45f5-a202-8bb15640b134",
   "metadata": {},
   "outputs": [],
   "source": [
    "str_cols = []\n",
    "int_cols = []"
   ]
  },
  {
   "cell_type": "code",
   "execution_count": null,
   "id": "c1db3d5c-3e87-4cd5-8ae7-11d788095422",
   "metadata": {},
   "outputs": [],
   "source": [
    "for col_name,num_of_missing_rows,dtype in zip(list(X.columns),X.isna().sum(),X.dtypes):\n",
    "    if dtype == object:\n",
    "        str_cols.append(col_name)\n",
    "    else:\n",
    "        int_cols.append(col_name)"
   ]
  },
  {
   "cell_type": "code",
   "execution_count": null,
   "id": "d47f1221-9979-4f79-8e71-80ae02e59b33",
   "metadata": {},
   "outputs": [],
   "source": [
    "for str_col in str_cols:\n",
    "    X,idx,labels_and_int_index,new_data = object_to_int(X,str_col)"
   ]
  },
  {
   "cell_type": "code",
   "execution_count": null,
   "id": "31587fb5-6bb4-4e47-bd4f-a40ffb9a1768",
   "metadata": {},
   "outputs": [],
   "source": [
    "X.head()"
   ]
  },
  {
   "cell_type": "code",
   "execution_count": null,
   "id": "4d58dc37-ae72-4d05-b9cf-62a5ab35963f",
   "metadata": {},
   "outputs": [],
   "source": [
    "nan_cols = []\n",
    "for col_name,num_of_missing_rows,dtype in zip(list(X.columns),X.isna().sum(),X.dtypes):\n",
    "    if num_of_missing_rows > 0:\n",
    "        nan_cols.append(col_name)"
   ]
  },
  {
   "cell_type": "code",
   "execution_count": null,
   "id": "7ee78f18-687d-4ead-b0d3-836f9ee60ec8",
   "metadata": {},
   "outputs": [],
   "source": [
    "for nan_col in nan_cols:\n",
    "    X[nan_col].fillna(X[nan_col].median(),inplace=True)"
   ]
  },
  {
   "cell_type": "code",
   "execution_count": null,
   "id": "2735189e-28ff-4ad6-a9ec-088d0668c764",
   "metadata": {},
   "outputs": [],
   "source": [
    "nan_cols = []\n",
    "for col_name,num_of_missing_rows,dtype in zip(list(X.columns),X.isna().sum(),X.dtypes):\n",
    "    if num_of_missing_rows > 0:\n",
    "        nan_cols.append(col_name)"
   ]
  },
  {
   "cell_type": "code",
   "execution_count": null,
   "id": "cc774b5c-864c-4ca1-98a5-9c15c3f34662",
   "metadata": {},
   "outputs": [],
   "source": [
    "train(GradientBoostingRegressor(),X,X,y,y,name='baseline-without-fe')"
   ]
  },
  {
   "cell_type": "code",
   "execution_count": null,
   "id": "849a2c64-9035-4095-bd5c-06cf954803c0",
   "metadata": {},
   "outputs": [],
   "source": [
    "X_old = X.copy()"
   ]
  },
  {
   "cell_type": "code",
   "execution_count": null,
   "id": "4a327805-8a37-4c22-880d-2154022c6900",
   "metadata": {},
   "outputs": [],
   "source": [
    "for col_name in list(X.columns):\n",
    "    try:\n",
    "        X = X_old.copy()\n",
    "        X = fe(X,col_name)\n",
    "        train(GradientBoostingRegressor(),X,X,y,y,name=f'baseline-with-fe-{col_name}')\n",
    "    except:\n",
    "        pass"
   ]
  },
  {
   "cell_type": "code",
   "execution_count": null,
   "id": "18da7858-3bf4-4639-ab12-87cdd08abf78",
   "metadata": {},
   "outputs": [],
   "source": [
    "X = X_old.copy()"
   ]
  },
  {
   "cell_type": "code",
   "execution_count": null,
   "id": "38925d4b-60a6-4f56-9032-71fca45b4b24",
   "metadata": {},
   "outputs": [],
   "source": [
    "X_corr = X_old.corr()"
   ]
  },
  {
   "cell_type": "code",
   "execution_count": null,
   "id": "1eb9628b-e2d3-4813-a29d-21b69c433115",
   "metadata": {},
   "outputs": [],
   "source": [
    "plt.figure(figsize=(12,7))\n",
    "sns.heatmap(X_corr)"
   ]
  },
  {
   "cell_type": "code",
   "execution_count": null,
   "id": "156dd7dd-42dc-49b7-b652-e24c264f5793",
   "metadata": {},
   "outputs": [],
   "source": []
  }
 ],
 "metadata": {
  "kernelspec": {
   "display_name": "Python 3.7.3 64-bit ('base': conda)",
   "language": "python",
   "name": "python373jvsc74a57bd0210f9608a45c0278a93c9e0b10db32a427986ab48cfc0d20c139811eb78c4bbc"
  },
  "language_info": {
   "codemirror_mode": {
    "name": "ipython",
    "version": 3
   },
   "file_extension": ".py",
   "mimetype": "text/x-python",
   "name": "python",
   "nbconvert_exporter": "python",
   "pygments_lexer": "ipython3",
   "version": "3.7.7"
  }
 },
 "nbformat": 4,
 "nbformat_minor": 5
}
